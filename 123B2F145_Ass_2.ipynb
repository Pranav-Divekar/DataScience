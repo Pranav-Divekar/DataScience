{
 "cells": [
  {
   "cell_type": "code",
   "execution_count": 1,
   "id": "63448fb2-6fc1-41bb-8517-ac98bad389a1",
   "metadata": {},
   "outputs": [
    {
     "data": {
      "text/html": [
       "<div>\n",
       "<style scoped>\n",
       "    .dataframe tbody tr th:only-of-type {\n",
       "        vertical-align: middle;\n",
       "    }\n",
       "\n",
       "    .dataframe tbody tr th {\n",
       "        vertical-align: top;\n",
       "    }\n",
       "\n",
       "    .dataframe thead th {\n",
       "        text-align: right;\n",
       "    }\n",
       "</style>\n",
       "<table border=\"1\" class=\"dataframe\">\n",
       "  <thead>\n",
       "    <tr style=\"text-align: right;\">\n",
       "      <th></th>\n",
       "      <th>sepal_length</th>\n",
       "      <th>sepal_width</th>\n",
       "      <th>petal_length</th>\n",
       "      <th>petal_width</th>\n",
       "      <th>species</th>\n",
       "    </tr>\n",
       "  </thead>\n",
       "  <tbody>\n",
       "    <tr>\n",
       "      <th>0</th>\n",
       "      <td>5.1</td>\n",
       "      <td>3.5</td>\n",
       "      <td>1.4</td>\n",
       "      <td>0.2</td>\n",
       "      <td>setosa</td>\n",
       "    </tr>\n",
       "    <tr>\n",
       "      <th>1</th>\n",
       "      <td>4.9</td>\n",
       "      <td>3.0</td>\n",
       "      <td>1.4</td>\n",
       "      <td>0.2</td>\n",
       "      <td>setosa</td>\n",
       "    </tr>\n",
       "    <tr>\n",
       "      <th>2</th>\n",
       "      <td>4.7</td>\n",
       "      <td>3.2</td>\n",
       "      <td>1.3</td>\n",
       "      <td>0.2</td>\n",
       "      <td>setosa</td>\n",
       "    </tr>\n",
       "    <tr>\n",
       "      <th>3</th>\n",
       "      <td>4.6</td>\n",
       "      <td>3.1</td>\n",
       "      <td>1.5</td>\n",
       "      <td>0.2</td>\n",
       "      <td>setosa</td>\n",
       "    </tr>\n",
       "  </tbody>\n",
       "</table>\n",
       "</div>"
      ],
      "text/plain": [
       "   sepal_length  sepal_width  petal_length  petal_width species\n",
       "0           5.1          3.5           1.4          0.2  setosa\n",
       "1           4.9          3.0           1.4          0.2  setosa\n",
       "2           4.7          3.2           1.3          0.2  setosa\n",
       "3           4.6          3.1           1.5          0.2  setosa"
      ]
     },
     "execution_count": 1,
     "metadata": {},
     "output_type": "execute_result"
    }
   ],
   "source": [
    "# Importing the pandas library for data manipulation and analysis\n",
    "import pandas as pd\n",
    "\n",
    "# Loading the dataset from a CSV file into a DataFrame using pd.read_csv()\n",
    "df = pd.read_csv('/Users/pranavashokdivekar/this_mac/Foundations Of Data Science/iris.csv')\n",
    "\n",
    "# Displaying the first 5 rows of the dataset using df.head()\n",
    "df.head()\n"
   ]
  },
  {
   "cell_type": "code",
   "execution_count": 2,
   "id": "0b4e6cf3-9dec-4bb0-81e5-134d0b656704",
   "metadata": {},
   "outputs": [
    {
     "name": "stdout",
     "output_type": "stream",
     "text": [
      "<class 'pandas.core.frame.DataFrame'>\n",
      "RangeIndex: 4 entries, 0 to 3\n",
      "Data columns (total 5 columns):\n",
      " #   Column        Non-Null Count  Dtype  \n",
      "---  ------        --------------  -----  \n",
      " 0   sepal_length  4 non-null      float64\n",
      " 1   sepal_width   4 non-null      float64\n",
      " 2   petal_length  4 non-null      float64\n",
      " 3   petal_width   4 non-null      float64\n",
      " 4   species       4 non-null      object \n",
      "dtypes: float64(4), object(1)\n",
      "memory usage: 292.0+ bytes\n"
     ]
    }
   ],
   "source": [
    "# Get summary of dataset\n",
    "df.info()"
   ]
  },
  {
   "cell_type": "code",
   "execution_count": 3,
   "id": "ca198bcb-c1ae-4cd3-acf7-c4481a59c7d7",
   "metadata": {},
   "outputs": [
    {
     "data": {
      "text/plain": [
       "sepal_length    0\n",
       "sepal_width     0\n",
       "petal_length    0\n",
       "petal_width     0\n",
       "species         0\n",
       "dtype: int64"
      ]
     },
     "execution_count": 3,
     "metadata": {},
     "output_type": "execute_result"
    }
   ],
   "source": [
    "# Finad all missing values\n",
    "df.isnull().sum()"
   ]
  },
  {
   "cell_type": "code",
   "execution_count": 4,
   "id": "d51d4084-0ff3-499a-aca8-3e2cab45ce46",
   "metadata": {},
   "outputs": [
    {
     "data": {
      "text/plain": [
       "(4, 5)"
      ]
     },
     "execution_count": 4,
     "metadata": {},
     "output_type": "execute_result"
    }
   ],
   "source": [
    "# Fetch dimensions of dataset\n",
    "df.shape"
   ]
  },
  {
   "cell_type": "code",
   "execution_count": 5,
   "id": "9592b2f5-bfc1-4b94-84d1-6dab8485aeb4",
   "metadata": {},
   "outputs": [
    {
     "data": {
      "text/html": [
       "<div>\n",
       "<style scoped>\n",
       "    .dataframe tbody tr th:only-of-type {\n",
       "        vertical-align: middle;\n",
       "    }\n",
       "\n",
       "    .dataframe tbody tr th {\n",
       "        vertical-align: top;\n",
       "    }\n",
       "\n",
       "    .dataframe thead th {\n",
       "        text-align: right;\n",
       "    }\n",
       "</style>\n",
       "<table border=\"1\" class=\"dataframe\">\n",
       "  <thead>\n",
       "    <tr style=\"text-align: right;\">\n",
       "      <th></th>\n",
       "      <th>sepal_length</th>\n",
       "      <th>sepal_width</th>\n",
       "      <th>petal_length</th>\n",
       "      <th>petal_width</th>\n",
       "    </tr>\n",
       "  </thead>\n",
       "  <tbody>\n",
       "    <tr>\n",
       "      <th>count</th>\n",
       "      <td>4.000000</td>\n",
       "      <td>4.000000</td>\n",
       "      <td>4.00000</td>\n",
       "      <td>4.0</td>\n",
       "    </tr>\n",
       "    <tr>\n",
       "      <th>mean</th>\n",
       "      <td>4.825000</td>\n",
       "      <td>3.200000</td>\n",
       "      <td>1.40000</td>\n",
       "      <td>0.2</td>\n",
       "    </tr>\n",
       "    <tr>\n",
       "      <th>std</th>\n",
       "      <td>0.221736</td>\n",
       "      <td>0.216025</td>\n",
       "      <td>0.08165</td>\n",
       "      <td>0.0</td>\n",
       "    </tr>\n",
       "    <tr>\n",
       "      <th>min</th>\n",
       "      <td>4.600000</td>\n",
       "      <td>3.000000</td>\n",
       "      <td>1.30000</td>\n",
       "      <td>0.2</td>\n",
       "    </tr>\n",
       "    <tr>\n",
       "      <th>25%</th>\n",
       "      <td>4.675000</td>\n",
       "      <td>3.075000</td>\n",
       "      <td>1.37500</td>\n",
       "      <td>0.2</td>\n",
       "    </tr>\n",
       "    <tr>\n",
       "      <th>50%</th>\n",
       "      <td>4.800000</td>\n",
       "      <td>3.150000</td>\n",
       "      <td>1.40000</td>\n",
       "      <td>0.2</td>\n",
       "    </tr>\n",
       "    <tr>\n",
       "      <th>75%</th>\n",
       "      <td>4.950000</td>\n",
       "      <td>3.275000</td>\n",
       "      <td>1.42500</td>\n",
       "      <td>0.2</td>\n",
       "    </tr>\n",
       "    <tr>\n",
       "      <th>max</th>\n",
       "      <td>5.100000</td>\n",
       "      <td>3.500000</td>\n",
       "      <td>1.50000</td>\n",
       "      <td>0.2</td>\n",
       "    </tr>\n",
       "  </tbody>\n",
       "</table>\n",
       "</div>"
      ],
      "text/plain": [
       "       sepal_length  sepal_width  petal_length  petal_width\n",
       "count      4.000000     4.000000       4.00000          4.0\n",
       "mean       4.825000     3.200000       1.40000          0.2\n",
       "std        0.221736     0.216025       0.08165          0.0\n",
       "min        4.600000     3.000000       1.30000          0.2\n",
       "25%        4.675000     3.075000       1.37500          0.2\n",
       "50%        4.800000     3.150000       1.40000          0.2\n",
       "75%        4.950000     3.275000       1.42500          0.2\n",
       "max        5.100000     3.500000       1.50000          0.2"
      ]
     },
     "execution_count": 5,
     "metadata": {},
     "output_type": "execute_result"
    }
   ],
   "source": [
    "# Get all summary statistics of numeric columns only.\n",
    "df.describe()"
   ]
  },
  {
   "cell_type": "code",
   "execution_count": 6,
   "id": "a677a1ed-1e4b-4846-8007-adf284018417",
   "metadata": {},
   "outputs": [
    {
     "data": {
      "text/plain": [
       "count    4.000000\n",
       "mean     4.825000\n",
       "std      0.221736\n",
       "min      4.600000\n",
       "25%      4.675000\n",
       "50%      4.800000\n",
       "75%      4.950000\n",
       "max      5.100000\n",
       "Name: sepal_length, dtype: float64"
      ]
     },
     "execution_count": 6,
     "metadata": {},
     "output_type": "execute_result"
    }
   ],
   "source": [
    "# Get the summary statistics.\n",
    "df['sepal_length'].describe()"
   ]
  },
  {
   "cell_type": "code",
   "execution_count": 7,
   "id": "25f0b9cd-6719-4ae6-815d-ce381b19ce1e",
   "metadata": {},
   "outputs": [
    {
     "data": {
      "text/html": [
       "<div>\n",
       "<style scoped>\n",
       "    .dataframe tbody tr th:only-of-type {\n",
       "        vertical-align: middle;\n",
       "    }\n",
       "\n",
       "    .dataframe tbody tr th {\n",
       "        vertical-align: top;\n",
       "    }\n",
       "\n",
       "    .dataframe thead th {\n",
       "        text-align: right;\n",
       "    }\n",
       "</style>\n",
       "<table border=\"1\" class=\"dataframe\">\n",
       "  <thead>\n",
       "    <tr style=\"text-align: right;\">\n",
       "      <th></th>\n",
       "      <th>sepal_length</th>\n",
       "      <th>sepal_width</th>\n",
       "      <th>petal_length</th>\n",
       "      <th>petal_width</th>\n",
       "      <th>species</th>\n",
       "    </tr>\n",
       "  </thead>\n",
       "  <tbody>\n",
       "    <tr>\n",
       "      <th>count</th>\n",
       "      <td>4.000000</td>\n",
       "      <td>4.000000</td>\n",
       "      <td>4.00000</td>\n",
       "      <td>4.0</td>\n",
       "      <td>4</td>\n",
       "    </tr>\n",
       "    <tr>\n",
       "      <th>unique</th>\n",
       "      <td>NaN</td>\n",
       "      <td>NaN</td>\n",
       "      <td>NaN</td>\n",
       "      <td>NaN</td>\n",
       "      <td>1</td>\n",
       "    </tr>\n",
       "    <tr>\n",
       "      <th>top</th>\n",
       "      <td>NaN</td>\n",
       "      <td>NaN</td>\n",
       "      <td>NaN</td>\n",
       "      <td>NaN</td>\n",
       "      <td>setosa</td>\n",
       "    </tr>\n",
       "    <tr>\n",
       "      <th>freq</th>\n",
       "      <td>NaN</td>\n",
       "      <td>NaN</td>\n",
       "      <td>NaN</td>\n",
       "      <td>NaN</td>\n",
       "      <td>4</td>\n",
       "    </tr>\n",
       "    <tr>\n",
       "      <th>mean</th>\n",
       "      <td>4.825000</td>\n",
       "      <td>3.200000</td>\n",
       "      <td>1.40000</td>\n",
       "      <td>0.2</td>\n",
       "      <td>NaN</td>\n",
       "    </tr>\n",
       "    <tr>\n",
       "      <th>std</th>\n",
       "      <td>0.221736</td>\n",
       "      <td>0.216025</td>\n",
       "      <td>0.08165</td>\n",
       "      <td>0.0</td>\n",
       "      <td>NaN</td>\n",
       "    </tr>\n",
       "    <tr>\n",
       "      <th>min</th>\n",
       "      <td>4.600000</td>\n",
       "      <td>3.000000</td>\n",
       "      <td>1.30000</td>\n",
       "      <td>0.2</td>\n",
       "      <td>NaN</td>\n",
       "    </tr>\n",
       "    <tr>\n",
       "      <th>25%</th>\n",
       "      <td>4.675000</td>\n",
       "      <td>3.075000</td>\n",
       "      <td>1.37500</td>\n",
       "      <td>0.2</td>\n",
       "      <td>NaN</td>\n",
       "    </tr>\n",
       "    <tr>\n",
       "      <th>50%</th>\n",
       "      <td>4.800000</td>\n",
       "      <td>3.150000</td>\n",
       "      <td>1.40000</td>\n",
       "      <td>0.2</td>\n",
       "      <td>NaN</td>\n",
       "    </tr>\n",
       "    <tr>\n",
       "      <th>75%</th>\n",
       "      <td>4.950000</td>\n",
       "      <td>3.275000</td>\n",
       "      <td>1.42500</td>\n",
       "      <td>0.2</td>\n",
       "      <td>NaN</td>\n",
       "    </tr>\n",
       "    <tr>\n",
       "      <th>max</th>\n",
       "      <td>5.100000</td>\n",
       "      <td>3.500000</td>\n",
       "      <td>1.50000</td>\n",
       "      <td>0.2</td>\n",
       "      <td>NaN</td>\n",
       "    </tr>\n",
       "  </tbody>\n",
       "</table>\n",
       "</div>"
      ],
      "text/plain": [
       "        sepal_length  sepal_width  petal_length  petal_width species\n",
       "count       4.000000     4.000000       4.00000          4.0       4\n",
       "unique           NaN          NaN           NaN          NaN       1\n",
       "top              NaN          NaN           NaN          NaN  setosa\n",
       "freq             NaN          NaN           NaN          NaN       4\n",
       "mean        4.825000     3.200000       1.40000          0.2     NaN\n",
       "std         0.221736     0.216025       0.08165          0.0     NaN\n",
       "min         4.600000     3.000000       1.30000          0.2     NaN\n",
       "25%         4.675000     3.075000       1.37500          0.2     NaN\n",
       "50%         4.800000     3.150000       1.40000          0.2     NaN\n",
       "75%         4.950000     3.275000       1.42500          0.2     NaN\n",
       "max         5.100000     3.500000       1.50000          0.2     NaN"
      ]
     },
     "execution_count": 7,
     "metadata": {},
     "output_type": "execute_result"
    }
   ],
   "source": [
    "#Descriptive statistics for all columns\n",
    "df.describe(include='all')"
   ]
  },
  {
   "cell_type": "code",
   "execution_count": 8,
   "id": "2ccc7b9c-a0a7-41f3-ac5b-e95ff1ba618a",
   "metadata": {},
   "outputs": [
    {
     "data": {
      "text/plain": [
       "array(['setosa'], dtype=object)"
      ]
     },
     "execution_count": 8,
     "metadata": {},
     "output_type": "execute_result"
    }
   ],
   "source": [
    "# Categories of Species\n",
    "df.species.unique()\n"
   ]
  },
  {
   "cell_type": "code",
   "execution_count": 9,
   "id": "0a995d77-ec02-4cdf-b655-1d261cf4da86",
   "metadata": {},
   "outputs": [
    {
     "name": "stdout",
     "output_type": "stream",
     "text": [
      "Mean Sepal Length:  4.824999999999999\n",
      "Median Sepal Length:  4.800000000000001\n",
      "Mode Sepal Length:  0    4.6\n",
      "1    4.7\n",
      "2    4.9\n",
      "3    5.1\n",
      "Name: sepal_length, dtype: float64\n"
     ]
    }
   ],
   "source": [
    "# Calculation of central tendency for the 'SepalLengthCm' column\n",
    "mean_value = df['sepal_length'].mean()  # Calculating the mean (average) of Sepal Length\n",
    "median_value = df['sepal_length'].median()  # Calculating the median (middle value) of Sepal Length\n",
    "mode_value = df['sepal_length'].mode()  # Calculating the mode (most frequent value) of Sepal Length\n",
    "\n",
    "# Printing the calculated values of mean, median, and mode\n",
    "print(\"Mean Sepal Length: \", mean_value)\n",
    "print(\"Median Sepal Length: \", median_value)\n",
    "print(\"Mode Sepal Length: \", mode_value)\n"
   ]
  },
  {
   "cell_type": "code",
   "execution_count": 10,
   "id": "bcc7c104-f370-4c82-a632-3897b2c08f4a",
   "metadata": {},
   "outputs": [
    {
     "name": "stderr",
     "output_type": "stream",
     "text": [
      "/var/folders/wh/3lbspqg95s98xfwfqxm7zx6r0000gn/T/ipykernel_5226/3586295587.py:4: UserWarning: \n",
      "\n",
      "`distplot` is a deprecated function and will be removed in seaborn v0.14.0.\n",
      "\n",
      "Please adapt your code to use either `displot` (a figure-level function with\n",
      "similar flexibility) or `histplot` (an axes-level function for histograms).\n",
      "\n",
      "For a guide to updating your code to use the new functions, please see\n",
      "https://gist.github.com/mwaskom/de44147ed2974457ad6372750bbe5751\n",
      "\n",
      "  sns.distplot(df['sepal_length'], bins=10, hist=True, kde=True, label = 'SepalLengthCm')\n"
     ]
    },
    {
     "data": {
      "text/plain": [
       "<Axes: xlabel='sepal_length', ylabel='Density'>"
      ]
     },
     "execution_count": 10,
     "metadata": {},
     "output_type": "execute_result"
    },
    {
     "data": {
      "image/png": "[encoded data removed]",
      "text/plain": [
       "<Figure size 640x480 with 1 Axes>"
      ]
     },
     "metadata": {},
     "output_type": "display_data"
    }
   ],
   "source": [
    "# Plotting\n",
    "import seaborn as sns\n",
    "\n",
    "sns.distplot(df['sepal_length'], bins=10, hist=True, kde=True, label = 'SepalLengthCm')"
   ]
  },
  {
   "cell_type": "code",
   "execution_count": 11,
   "id": "4a637bd6-e07a-42d2-a247-ce842eb24abd",
   "metadata": {},
   "outputs": [
    {
     "data": {
      "text/plain": [
       "<Axes: xlabel='sepal_length', ylabel='Density'>"
      ]
     },
     "execution_count": 11,
     "metadata": {},
     "output_type": "execute_result"
    },
    {
     "data": {
      "image/png": "[encoded data removed]",
      "text/plain": [
       "<Figure size 640x480 with 1 Axes>"
      ]
     },
     "metadata": {},
     "output_type": "display_data"
    }
   ],
   "source": [
    "sns.histplot(df['sepal_length'], bins=10, kde=True, color='blue', label='Sepal Length', stat='density')\n"
   ]
  },
  {
   "cell_type": "code",
   "execution_count": 12,
   "id": "d55f8d51-0700-43f4-8ff9-e0c99147c510",
   "metadata": {},
   "outputs": [
    {
     "name": "stdout",
     "output_type": "stream",
     "text": [
      "Min value of Petal Length:  1.3\n",
      "Max value of Petal Length:  1.5\n",
      "Range of Petal Length:  0.19999999999999996\n",
      "Variance:  0.006666666666666664\n",
      "Standard Deviation:  0.08164965809277258\n",
      "Q1 or 25th percentile:  1.375\n",
      "Median (Q2 or 50th percentile):  1.4\n",
      "Q3 or 75th percentile:  1.4249999999999998\n",
      "Interquartile Range:  0.04999999999999982\n"
     ]
    }
   ],
   "source": [
    "# Computation of measures of dispersion or variability for the 'PetalLengthCm' column\n",
    "import numpy as np\n",
    "\n",
    "min_value = df['petal_length'].min()  # Calculating the minimum value\n",
    "max_value = df['petal_length'].max()  # Calculating the maximum value\n",
    "range_value = max_value - min_value    # Calculating the range (Max - Min)\n",
    "var = df['petal_length'].var()        # Calculating the variance (measure of spread)\n",
    "std = df['petal_length'].std()        # Calculating the standard deviation (spread in original units)\n",
    "Q1 = df['petal_length'].quantile(0.25)  # Calculating the 25th percentile (first quartile)\n",
    "Q2 = df['petal_length'].quantile(0.5)   # Calculating the 50th percentile (second quartile or median)\n",
    "Q3 = df['petal_length'].quantile(0.75)  # Calculating the 75th percentile (third quartile)\n",
    "IQR = Q3 - Q1  # Calculating the interquartile range (IQR) as Q3 - Q1\n",
    "\n",
    "# Displaying the computed measures of dispersion\n",
    "print(\"Min value of Petal Length: \", min_value)\n",
    "print(\"Max value of Petal Length: \", max_value)\n",
    "print(\"Range of Petal Length: \", range_value)\n",
    "print(\"Variance: \", var)\n",
    "print(\"Standard Deviation: \", std)\n",
    "print(\"Q1 or 25th percentile: \", Q1)\n",
    "print(\"Median (Q2 or 50th percentile): \", Q2)\n",
    "print(\"Q3 or 75th percentile: \", Q3)\n",
    "print(\"Interquartile Range: \", IQR)\n"
   ]
  },
  {
   "cell_type": "code",
   "execution_count": 13,
   "id": "7147b52f-0f83-467d-9739-18ad82ede5f4",
   "metadata": {},
   "outputs": [
    {
     "data": {
      "text/plain": [
       "np.float64(0.0)"
      ]
     },
     "execution_count": 13,
     "metadata": {},
     "output_type": "execute_result"
    }
   ],
   "source": [
    "#skewness\n",
    "df['petal_width'].skew()"
   ]
  },
  {
   "cell_type": "code",
   "execution_count": null,
   "id": "80f7bbc3-bb54-4cae-bfd8-b1b198220d32",
   "metadata": {},
   "outputs": [],
   "source": []
  }
 ],
 "metadata": {
  "kernelspec": {
   "display_name": "Python 3 (ipykernel)",
   "language": "python",
   "name": "python3"
  },
  "language_info": {
   "codemirror_mode": {
    "name": "ipython",
    "version": 3
   },
   "file_extension": ".py",
   "mimetype": "text/x-python",
   "name": "python",
   "nbconvert_exporter": "python",
   "pygments_lexer": "ipython3",
   "version": "3.11.3"
  }
 },
 "nbformat": 4,
 "nbformat_minor": 5
}
